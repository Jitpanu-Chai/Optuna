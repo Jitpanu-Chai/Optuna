{
  "nbformat": 4,
  "nbformat_minor": 0,
  "metadata": {
    "colab": {
      "name": "Optuna_FashionMNIST_plusconvo.ipynb",
      "provenance": [],
      "collapsed_sections": [],
      "machine_shape": "hm",
      "authorship_tag": "ABX9TyNI7SrD+/tQmPw1FQ8Dqf68",
      "include_colab_link": true
    },
    "kernelspec": {
      "name": "python3",
      "display_name": "Python 3"
    },
    "language_info": {
      "name": "python"
    },
    "accelerator": "GPU"
  },
  "cells": [
    {
      "cell_type": "markdown",
      "metadata": {
        "id": "view-in-github",
        "colab_type": "text"
      },
      "source": [
        "<a href=\"https://colab.research.google.com/github/Jitpanu-Chai/Optuna/blob/main/Optuna_FashionMNIST_plusconvo.ipynb\" target=\"_parent\"><img src=\"https://colab.research.google.com/assets/colab-badge.svg\" alt=\"Open In Colab\"/></a>"
      ]
    },
    {
      "cell_type": "code",
      "execution_count": 1,
      "metadata": {
        "colab": {
          "base_uri": "https://localhost:8080/"
        },
        "id": "Auo5nTwryopW",
        "outputId": "c8ce1cde-48c1-492e-dc38-030ff302292b"
      },
      "outputs": [
        {
          "output_type": "stream",
          "name": "stdout",
          "text": [
            "\u001b[K     |████████████████████████████████| 308 kB 4.3 MB/s \n",
            "\u001b[K     |████████████████████████████████| 81 kB 10.9 MB/s \n",
            "\u001b[K     |████████████████████████████████| 210 kB 55.7 MB/s \n",
            "\u001b[K     |████████████████████████████████| 78 kB 9.3 MB/s \n",
            "\u001b[K     |████████████████████████████████| 49 kB 8.1 MB/s \n",
            "\u001b[K     |████████████████████████████████| 146 kB 53.9 MB/s \n",
            "\u001b[K     |████████████████████████████████| 113 kB 58.9 MB/s \n",
            "\u001b[?25h  Building wheel for pyperclip (setup.py) ... \u001b[?25l\u001b[?25hdone\n"
          ]
        }
      ],
      "source": [
        "!pip install -qq optuna"
      ]
    },
    {
      "cell_type": "code",
      "source": [
        "import optuna\n",
        "import os"
      ],
      "metadata": {
        "id": "AKVDFORkraXK"
      },
      "execution_count": 2,
      "outputs": []
    },
    {
      "cell_type": "markdown",
      "source": [
        "# **PyTorch**"
      ],
      "metadata": {
        "id": "yDYMQt6VhzoI"
      }
    },
    {
      "cell_type": "code",
      "source": [
        "import torch \n",
        "import torch.nn as nn\n",
        "import torch.nn.functional as F\n",
        "import torch.optim as optim\n",
        "import torch.utils.data\n",
        "from torchvision import datasets\n",
        "from torchvision import transforms\n",
        "import math"
      ],
      "metadata": {
        "id": "PLS6a8I43SUu"
      },
      "execution_count": 41,
      "outputs": []
    },
    {
      "cell_type": "code",
      "source": [
        "DEVICE = torch.device(\"cuda\") #torch.device(\"cpu\")\n",
        "BATCHSIZE = 128\n",
        "CLASSES = 10\n",
        "DIR = os.getcwd()\n",
        "EPOCHS = 10\n",
        "LOG_INTERVAL = 10\n",
        "N_TRAIN_EXAMPLES = BATCHSIZE * 30\n",
        "N_VALID_EXAMPLES = BATCHSIZE * 10"
      ],
      "metadata": {
        "id": "vUXPXoPW_-Mf"
      },
      "execution_count": 17,
      "outputs": []
    },
    {
      "cell_type": "markdown",
      "source": [
        "# **Optuna+Model construct**"
      ],
      "metadata": {
        "id": "ZxVKbLo76jLG"
      }
    },
    {
      "cell_type": "code",
      "source": [
        "m = nn.MaxPool2d((2,2))\n",
        "# pool of non-square window\n",
        "# m = nn.MaxPool2d((3, 2), stride=(2, 1))\n",
        "input = torch.randn(20, 56, 2, 2)\n",
        "output = m(input)\n",
        "print(output.shape)"
      ],
      "metadata": {
        "colab": {
          "base_uri": "https://localhost:8080/"
        },
        "id": "HpOWPU29kMZW",
        "outputId": "b85fc3e2-20b6-4fe4-c68f-997da0a35f5a"
      },
      "execution_count": 197,
      "outputs": [
        {
          "output_type": "stream",
          "name": "stdout",
          "text": [
            "torch.Size([20, 56, 1, 1])\n"
          ]
        }
      ]
    },
    {
      "cell_type": "code",
      "source": [
        "math.floor(( (28 +2*0-1*(3-1)-1  ) /1)+1)"
      ],
      "metadata": {
        "colab": {
          "base_uri": "https://localhost:8080/"
        },
        "id": "lGooPcVRo5RG",
        "outputId": "eb36fa9b-7b82-43c6-fa3e-6dacf7d5ef00"
      },
      "execution_count": 66,
      "outputs": [
        {
          "output_type": "execute_result",
          "data": {
            "text/plain": [
              "26"
            ]
          },
          "metadata": {},
          "execution_count": 66
        }
      ]
    },
    {
      "cell_type": "code",
      "source": [
        "def cal_shape_after_convo(in_shape,kernel_size=1,dilation=1,stride=1,padding='same'):  #same padd=0\n",
        "    if padding != 'same':\n",
        "        new_shape = math.floor(( (in_shape +2*padding-dilation*(kernel_size-1)-1  ) /stride)+1)\n",
        "    else:\n",
        "        new_shape = in_shape\n",
        "    return new_shape\n"
      ],
      "metadata": {
        "id": "HdNo-csCnDep"
      },
      "execution_count": 192,
      "outputs": []
    },
    {
      "cell_type": "code",
      "source": [
        "def define_model(trial):\n",
        "    #optmize number of layer ,hidden unit drop out\n",
        "    n_layers = trial.suggest_int(\"n_layers\",1,3)\n",
        "    n_blocks = trial.suggest_int(\"n_blocks\", 2, 5)\n",
        "    weight_decay = trial.suggest_float(\"weight_decay\", 1e-10, 1e-3, log=True)\n",
        "\n",
        "    layers=[]\n",
        "    # in_features = 28*28\n",
        "    in_features = 1 #init channel (fasjon MNIST is 1 due to greyscale)    \n",
        "    squre_shape = 28\n",
        "\n",
        "    #convo block\n",
        "    for i in range(1,n_blocks):\n",
        "      \n",
        "        out_features = i*28 # how many times of it shape (28,28)\n",
        "        layers.append(nn.Conv2d(in_features,out_features,kernel_size=(3,3),padding='same'))\n",
        "        squre_shape = cal_shape_after_convo(squre_shape,kernel_size=3)\n",
        "       \n",
        "       \n",
        "        layers.append(nn.ReLU())\n",
        "        layers.append(nn.BatchNorm2d(out_features))\n",
        "\n",
        "        in_features = out_features\n",
        "        layers.append(nn.Conv2d(in_features,out_features,kernel_size=(3,3),padding='same'))\n",
        "        squre_shape = cal_shape_after_convo(squre_shape,kernel_size=3)\n",
        "       \n",
        "        layers.append(nn.ReLU())\n",
        "        layers.append(nn.BatchNorm2d(out_features))\n",
        "\n",
        "        layers.append(nn.MaxPool2d((2,2)))\n",
        "        squre_shape = math.floor(squre_shape/2)\n",
        "               \n",
        "        layers.append(nn.Dropout(0.5))\n",
        "            \n",
        " \n",
        "    layers.append(nn.Flatten())\n",
        "\n",
        "    in_features = in_features*squre_shape*squre_shape    \n",
        "\n",
        "    for i in range(n_layers):\n",
        "        out_features = trial.suggest_int(\"n_units_l{}\".format(i),16,512)\n",
        "        layers.append(nn.Linear(in_features,out_features))\n",
        "        layers.append(nn.ReLU())\n",
        "        p= trial.suggest_float(\"dropout_l{}\".format(i),0.2,0.8)\n",
        "        layers.append(nn.Dropout(p))\n",
        "        in_features=out_features\n",
        "\n",
        "    layers.append(nn.Linear(in_features,CLASSES))\n",
        "    layers.append(nn.LogSoftmax(dim=1))\n",
        "\n",
        "    return nn.Sequential(*layers)"
      ],
      "metadata": {
        "id": "hSZC7KzyYeRs"
      },
      "execution_count": 195,
      "outputs": []
    },
    {
      "cell_type": "code",
      "source": [
        "def get_mnist():\n",
        "    # Load FashionMNIST dataset.\n",
        "    transform = transforms.Compose([transforms.ToTensor(),])\n",
        "\n",
        "    train_loader = torch.utils.data.DataLoader(\n",
        "        datasets.FashionMNIST(DIR, train=True, download=True, transform=transform),\n",
        "        batch_size=BATCHSIZE,\n",
        "        shuffle=True,\n",
        "    )\n",
        "    valid_loader = torch.utils.data.DataLoader(\n",
        "        datasets.FashionMNIST(DIR, train=False, transform=transform),\n",
        "        batch_size=BATCHSIZE,\n",
        "        shuffle=True,\n",
        "    )\n",
        "\n",
        "    return train_loader, valid_loader"
      ],
      "metadata": {
        "id": "RedG1oQ4ALDI"
      },
      "execution_count": 29,
      "outputs": []
    },
    {
      "cell_type": "markdown",
      "source": [
        "# **Optuna Area**"
      ],
      "metadata": {
        "id": "rNpxXUDX2_qG"
      }
    },
    {
      "cell_type": "code",
      "source": [
        "def objective(trial):\n",
        "    #code here\n",
        "    #create model\n",
        "    model = define_model(trial).to(DEVICE)\n",
        "  \n",
        "    #create optimize\n",
        "    optimizer_name=trial.suggest_categorical(\"optimizers\",[\"Adam\",\"RMSprop\",\"SGD\"])\n",
        "    lr= trial.suggest_float(\"lr\",1e-5,1e-1,log=True)\n",
        "    optimizer= getattr(optim, optimizer_name)(model.parameters(),lr=lr)\n",
        "\n",
        "    #get MNIST dataset\n",
        "    train_loader,valid_loader = get_mnist()\n",
        "\n",
        "    #train model\n",
        "    for eporch in range(EPOCHS):\n",
        "        #train torch code model\n",
        "        model.train()\n",
        "        for batch_idx, (data, target) in enumerate(train_loader):\n",
        "            # Limiting training data for faster epochs.\n",
        "            if batch_idx * BATCHSIZE >= N_TRAIN_EXAMPLES:\n",
        "                break\n",
        "\n",
        "            data, target = data.view(data.size(0), -1,28,28).to(DEVICE), target.to(DEVICE)\n",
        "\n",
        "            optimizer.zero_grad()\n",
        "            output = model(data)\n",
        "            loss = F.nll_loss(output, target)\n",
        "            loss.backward()\n",
        "            optimizer.step()\n",
        "\n",
        "        # Validation of the model.\n",
        "        model.eval()\n",
        "        correct = 0\n",
        "        with torch.no_grad():\n",
        "            for batch_idx, (data, target) in enumerate(valid_loader):\n",
        "                # Limiting validation data.\n",
        "                if batch_idx * BATCHSIZE >= N_VALID_EXAMPLES:\n",
        "                    break\n",
        "                data, target = data.view(data.size(0), -1,28,28).to(DEVICE), target.to(DEVICE)\n",
        "                \n",
        "                output = model(data)\n",
        "                # Get the index of the max log-probability.\n",
        "                pred = output.argmax(dim=1, keepdim=True)\n",
        "                correct += pred.eq(target.view_as(pred)).sum().item()\n",
        "\n",
        "        accuracy = correct / min(len(valid_loader.dataset), N_VALID_EXAMPLES)\n",
        "\n",
        "        trial.report(accuracy,eporch) #report to optuna to check status its worth or not\n",
        "        #handing prun algo\n",
        "        if trial.should_prune():\n",
        "            raise optuna.exceptions.TrialPruned()    \n",
        "    return accuracy"
      ],
      "metadata": {
        "id": "-o1ru4nG2aDu"
      },
      "execution_count": 170,
      "outputs": []
    },
    {
      "cell_type": "code",
      "source": [
        "# if __name__ == 'main':\n",
        "\n",
        "study = optuna.create_study(direction='maximize') #select own direction or default\n",
        "study.optimize(objective,n_trials=100) #number of trials #timeout=600\n",
        "\n",
        "pruned_trials = [t for t in study.trials if t.state == optuna.trial.TrialState.PRUNED]\n",
        "complete_trials = [t for t in study.trials if t.state == optuna.trial.TrialState.COMPLETE]\n",
        "\n",
        "print('study statistic')\n",
        "print('number of finished trials: ',len(study.trials))\n",
        "print('number of proned trials: ',len(pruned_trials))\n",
        "print('number of completed trials: ',len(complete_trials))\n",
        "\n",
        "print(\"Best trials:\")\n",
        "trial =study.best_trial\n",
        "print('Value', trial.value)\n",
        "\n",
        "print('Params')\n",
        "for key,value in trial.params.items():\n",
        "    print('{}:{}'.format(key,value))\n"
      ],
      "metadata": {
        "colab": {
          "base_uri": "https://localhost:8080/"
        },
        "id": "GYK5WbT6899n",
        "outputId": "764b8f30-8ce4-43fb-b735-541010e8b1fe"
      },
      "execution_count": 196,
      "outputs": [
        {
          "output_type": "stream",
          "name": "stderr",
          "text": [
            "\u001b[32m[I 2022-04-18 05:38:17,524]\u001b[0m A new study created in memory with name: no-name-ad3e7294-259e-47ee-b5d4-bfb88ce3ae3c\u001b[0m\n",
            "\u001b[32m[I 2022-04-18 05:38:22,260]\u001b[0m Trial 0 finished with value: 0.80703125 and parameters: {'n_layers': 1, 'n_blocks': 2, 'weight_decay': 4.046120942215587e-06, 'n_units_l0': 329, 'dropout_l0': 0.7086303463289649, 'optimizers': 'SGD', 'lr': 0.0032649756716407177}. Best is trial 0 with value: 0.80703125.\u001b[0m\n",
            "\u001b[32m[I 2022-04-18 05:38:27,117]\u001b[0m Trial 1 finished with value: 0.8453125 and parameters: {'n_layers': 1, 'n_blocks': 2, 'weight_decay': 1.0155992484519032e-09, 'n_units_l0': 146, 'dropout_l0': 0.20156072113121778, 'optimizers': 'Adam', 'lr': 0.012982806663220384}. Best is trial 1 with value: 0.8453125.\u001b[0m\n",
            "\u001b[32m[I 2022-04-18 05:38:33,311]\u001b[0m Trial 2 finished with value: 0.0984375 and parameters: {'n_layers': 2, 'n_blocks': 5, 'weight_decay': 5.455216279135173e-09, 'n_units_l0': 71, 'dropout_l0': 0.7751981253446396, 'n_units_l1': 16, 'dropout_l1': 0.6400860797856713, 'optimizers': 'RMSprop', 'lr': 1.4731890985986583e-05}. Best is trial 1 with value: 0.8453125.\u001b[0m\n",
            "\u001b[32m[I 2022-04-18 05:38:38,325]\u001b[0m Trial 3 finished with value: 0.11171875 and parameters: {'n_layers': 3, 'n_blocks': 2, 'weight_decay': 2.8807641839593226e-10, 'n_units_l0': 152, 'dropout_l0': 0.6233955560818598, 'n_units_l1': 296, 'dropout_l1': 0.6138272928274291, 'n_units_l2': 463, 'dropout_l2': 0.47158248307632994, 'optimizers': 'Adam', 'lr': 0.031595750851323164}. Best is trial 1 with value: 0.8453125.\u001b[0m\n",
            "\u001b[32m[I 2022-04-18 05:38:43,386]\u001b[0m Trial 4 finished with value: 0.86484375 and parameters: {'n_layers': 3, 'n_blocks': 2, 'weight_decay': 5.174451229558666e-06, 'n_units_l0': 391, 'dropout_l0': 0.7086571897880161, 'n_units_l1': 157, 'dropout_l1': 0.2665739361753159, 'n_units_l2': 491, 'dropout_l2': 0.2410046786931087, 'optimizers': 'RMSprop', 'lr': 0.00036589507379185336}. Best is trial 4 with value: 0.86484375.\u001b[0m\n",
            "\u001b[32m[I 2022-04-18 05:38:43,946]\u001b[0m Trial 5 pruned. \u001b[0m\n",
            "\u001b[32m[I 2022-04-18 05:38:44,587]\u001b[0m Trial 6 pruned. \u001b[0m\n",
            "\u001b[32m[I 2022-04-18 05:38:45,257]\u001b[0m Trial 7 pruned. \u001b[0m\n",
            "\u001b[32m[I 2022-04-18 05:38:45,855]\u001b[0m Trial 8 pruned. \u001b[0m\n",
            "\u001b[32m[I 2022-04-18 05:38:46,440]\u001b[0m Trial 9 pruned. \u001b[0m\n",
            "\u001b[32m[I 2022-04-18 05:38:47,126]\u001b[0m Trial 10 pruned. \u001b[0m\n",
            "\u001b[32m[I 2022-04-18 05:38:47,653]\u001b[0m Trial 11 pruned. \u001b[0m\n",
            "\u001b[32m[I 2022-04-18 05:38:48,182]\u001b[0m Trial 12 pruned. \u001b[0m\n",
            "\u001b[32m[I 2022-04-18 05:38:48,803]\u001b[0m Trial 13 pruned. \u001b[0m\n",
            "\u001b[32m[I 2022-04-18 05:38:49,389]\u001b[0m Trial 14 pruned. \u001b[0m\n",
            "\u001b[32m[I 2022-04-18 05:38:50,386]\u001b[0m Trial 15 pruned. \u001b[0m\n",
            "\u001b[32m[I 2022-04-18 05:38:51,016]\u001b[0m Trial 16 pruned. \u001b[0m\n",
            "\u001b[32m[I 2022-04-18 05:38:51,612]\u001b[0m Trial 17 pruned. \u001b[0m\n",
            "\u001b[32m[I 2022-04-18 05:38:56,615]\u001b[0m Trial 18 finished with value: 0.87578125 and parameters: {'n_layers': 2, 'n_blocks': 2, 'weight_decay': 7.106730462979821e-08, 'n_units_l0': 224, 'dropout_l0': 0.5497989488504602, 'n_units_l1': 452, 'dropout_l1': 0.5025813750028992, 'optimizers': 'Adam', 'lr': 0.0010507005822387202}. Best is trial 18 with value: 0.87578125.\u001b[0m\n",
            "\u001b[32m[I 2022-04-18 05:38:57,185]\u001b[0m Trial 19 pruned. \u001b[0m\n",
            "\u001b[32m[I 2022-04-18 05:38:58,189]\u001b[0m Trial 20 pruned. \u001b[0m\n",
            "\u001b[32m[I 2022-04-18 05:38:58,712]\u001b[0m Trial 21 pruned. \u001b[0m\n",
            "\u001b[32m[I 2022-04-18 05:39:03,899]\u001b[0m Trial 22 finished with value: 0.8765625 and parameters: {'n_layers': 3, 'n_blocks': 2, 'weight_decay': 1.913175963207372e-05, 'n_units_l0': 255, 'dropout_l0': 0.5520157866782531, 'n_units_l1': 302, 'dropout_l1': 0.2852876498528232, 'n_units_l2': 502, 'dropout_l2': 0.459432162560889, 'optimizers': 'Adam', 'lr': 0.0004561781767489633}. Best is trial 22 with value: 0.8765625.\u001b[0m\n",
            "\u001b[32m[I 2022-04-18 05:39:05,065]\u001b[0m Trial 23 pruned. \u001b[0m\n",
            "\u001b[32m[I 2022-04-18 05:39:05,703]\u001b[0m Trial 24 pruned. \u001b[0m\n",
            "\u001b[32m[I 2022-04-18 05:39:06,270]\u001b[0m Trial 25 pruned. \u001b[0m\n",
            "\u001b[32m[I 2022-04-18 05:39:06,903]\u001b[0m Trial 26 pruned. \u001b[0m\n",
            "\u001b[32m[I 2022-04-18 05:39:07,444]\u001b[0m Trial 27 pruned. \u001b[0m\n",
            "\u001b[32m[I 2022-04-18 05:39:08,133]\u001b[0m Trial 28 pruned. \u001b[0m\n",
            "\u001b[32m[I 2022-04-18 05:39:08,670]\u001b[0m Trial 29 pruned. \u001b[0m\n",
            "\u001b[32m[I 2022-04-18 05:39:09,192]\u001b[0m Trial 30 pruned. \u001b[0m\n",
            "\u001b[32m[I 2022-04-18 05:39:14,107]\u001b[0m Trial 31 finished with value: 0.88671875 and parameters: {'n_layers': 1, 'n_blocks': 2, 'weight_decay': 2.576819579267082e-09, 'n_units_l0': 189, 'dropout_l0': 0.32341598763057056, 'optimizers': 'Adam', 'lr': 0.002537427225966454}. Best is trial 31 with value: 0.88671875.\u001b[0m\n",
            "\u001b[32m[I 2022-04-18 05:39:14,639]\u001b[0m Trial 32 pruned. \u001b[0m\n",
            "\u001b[32m[I 2022-04-18 05:39:15,215]\u001b[0m Trial 33 pruned. \u001b[0m\n",
            "\u001b[32m[I 2022-04-18 05:39:20,108]\u001b[0m Trial 34 finished with value: 0.86875 and parameters: {'n_layers': 1, 'n_blocks': 2, 'weight_decay': 2.44401179171609e-08, 'n_units_l0': 104, 'dropout_l0': 0.3644621817636764, 'optimizers': 'Adam', 'lr': 0.001622828604621893}. Best is trial 31 with value: 0.88671875.\u001b[0m\n",
            "\u001b[32m[I 2022-04-18 05:39:20,622]\u001b[0m Trial 35 pruned. \u001b[0m\n",
            "\u001b[32m[I 2022-04-18 05:39:21,331]\u001b[0m Trial 36 pruned. \u001b[0m\n",
            "\u001b[32m[I 2022-04-18 05:39:21,917]\u001b[0m Trial 37 pruned. \u001b[0m\n",
            "\u001b[32m[I 2022-04-18 05:39:26,745]\u001b[0m Trial 38 finished with value: 0.8734375 and parameters: {'n_layers': 1, 'n_blocks': 2, 'weight_decay': 3.11720724382426e-08, 'n_units_l0': 159, 'dropout_l0': 0.40263937476525236, 'optimizers': 'Adam', 'lr': 0.0011500380751881844}. Best is trial 31 with value: 0.88671875.\u001b[0m\n",
            "\u001b[32m[I 2022-04-18 05:39:27,287]\u001b[0m Trial 39 pruned. \u001b[0m\n",
            "\u001b[32m[I 2022-04-18 05:39:27,876]\u001b[0m Trial 40 pruned. \u001b[0m\n",
            "\u001b[32m[I 2022-04-18 05:39:28,391]\u001b[0m Trial 41 pruned. \u001b[0m\n",
            "\u001b[32m[I 2022-04-18 05:39:28,909]\u001b[0m Trial 42 pruned. \u001b[0m\n",
            "\u001b[32m[I 2022-04-18 05:39:29,438]\u001b[0m Trial 43 pruned. \u001b[0m\n",
            "\u001b[32m[I 2022-04-18 05:39:29,957]\u001b[0m Trial 44 pruned. \u001b[0m\n",
            "\u001b[32m[I 2022-04-18 05:39:30,482]\u001b[0m Trial 45 pruned. \u001b[0m\n",
            "\u001b[32m[I 2022-04-18 05:39:32,500]\u001b[0m Trial 46 pruned. \u001b[0m\n",
            "\u001b[32m[I 2022-04-18 05:39:33,056]\u001b[0m Trial 47 pruned. \u001b[0m\n",
            "\u001b[32m[I 2022-04-18 05:39:33,577]\u001b[0m Trial 48 pruned. \u001b[0m\n",
            "\u001b[32m[I 2022-04-18 05:39:34,265]\u001b[0m Trial 49 pruned. \u001b[0m\n",
            "\u001b[32m[I 2022-04-18 05:39:39,265]\u001b[0m Trial 50 finished with value: 0.86875 and parameters: {'n_layers': 2, 'n_blocks': 2, 'weight_decay': 1.2790274186901092e-09, 'n_units_l0': 84, 'dropout_l0': 0.3130724622235706, 'n_units_l1': 461, 'dropout_l1': 0.7521120860695105, 'optimizers': 'Adam', 'lr': 0.0014710566692663339}. Best is trial 31 with value: 0.88671875.\u001b[0m\n",
            "\u001b[32m[I 2022-04-18 05:39:39,807]\u001b[0m Trial 51 pruned. \u001b[0m\n",
            "\u001b[32m[I 2022-04-18 05:39:40,346]\u001b[0m Trial 52 pruned. \u001b[0m\n",
            "\u001b[32m[I 2022-04-18 05:39:40,911]\u001b[0m Trial 53 pruned. \u001b[0m\n",
            "\u001b[32m[I 2022-04-18 05:39:41,460]\u001b[0m Trial 54 pruned. \u001b[0m\n",
            "\u001b[32m[I 2022-04-18 05:39:41,999]\u001b[0m Trial 55 pruned. \u001b[0m\n",
            "\u001b[32m[I 2022-04-18 05:39:42,573]\u001b[0m Trial 56 pruned. \u001b[0m\n",
            "\u001b[32m[I 2022-04-18 05:39:43,140]\u001b[0m Trial 57 pruned. \u001b[0m\n",
            "\u001b[32m[I 2022-04-18 05:39:43,803]\u001b[0m Trial 58 pruned. \u001b[0m\n",
            "\u001b[32m[I 2022-04-18 05:39:44,364]\u001b[0m Trial 59 pruned. \u001b[0m\n",
            "\u001b[32m[I 2022-04-18 05:39:44,950]\u001b[0m Trial 60 pruned. \u001b[0m\n",
            "\u001b[32m[I 2022-04-18 05:39:46,011]\u001b[0m Trial 61 pruned. \u001b[0m\n",
            "\u001b[32m[I 2022-04-18 05:39:46,559]\u001b[0m Trial 62 pruned. \u001b[0m\n",
            "\u001b[32m[I 2022-04-18 05:39:47,116]\u001b[0m Trial 63 pruned. \u001b[0m\n",
            "\u001b[32m[I 2022-04-18 05:39:47,649]\u001b[0m Trial 64 pruned. \u001b[0m\n",
            "\u001b[32m[I 2022-04-18 05:39:48,722]\u001b[0m Trial 65 pruned. \u001b[0m\n",
            "\u001b[32m[I 2022-04-18 05:39:49,305]\u001b[0m Trial 66 pruned. \u001b[0m\n",
            "\u001b[32m[I 2022-04-18 05:39:49,818]\u001b[0m Trial 67 pruned. \u001b[0m\n",
            "\u001b[32m[I 2022-04-18 05:39:50,338]\u001b[0m Trial 68 pruned. \u001b[0m\n",
            "\u001b[32m[I 2022-04-18 05:39:50,887]\u001b[0m Trial 69 pruned. \u001b[0m\n",
            "\u001b[32m[I 2022-04-18 05:39:51,451]\u001b[0m Trial 70 pruned. \u001b[0m\n",
            "\u001b[32m[I 2022-04-18 05:39:52,145]\u001b[0m Trial 71 pruned. \u001b[0m\n",
            "\u001b[32m[I 2022-04-18 05:39:52,672]\u001b[0m Trial 72 pruned. \u001b[0m\n",
            "\u001b[32m[I 2022-04-18 05:39:53,197]\u001b[0m Trial 73 pruned. \u001b[0m\n",
            "\u001b[32m[I 2022-04-18 05:39:53,728]\u001b[0m Trial 74 pruned. \u001b[0m\n",
            "\u001b[32m[I 2022-04-18 05:39:54,245]\u001b[0m Trial 75 pruned. \u001b[0m\n",
            "\u001b[32m[I 2022-04-18 05:39:59,053]\u001b[0m Trial 76 finished with value: 0.87890625 and parameters: {'n_layers': 1, 'n_blocks': 2, 'weight_decay': 0.00039754601030238577, 'n_units_l0': 181, 'dropout_l0': 0.2033008421098676, 'optimizers': 'Adam', 'lr': 0.0011415353850615158}. Best is trial 31 with value: 0.88671875.\u001b[0m\n",
            "\u001b[32m[I 2022-04-18 05:40:04,029]\u001b[0m Trial 77 finished with value: 0.88046875 and parameters: {'n_layers': 1, 'n_blocks': 2, 'weight_decay': 0.0004545276914383347, 'n_units_l0': 188, 'dropout_l0': 0.21260187148327397, 'optimizers': 'Adam', 'lr': 0.0011209616794861485}. Best is trial 31 with value: 0.88671875.\u001b[0m\n",
            "\u001b[32m[I 2022-04-18 05:40:04,565]\u001b[0m Trial 78 pruned. \u001b[0m\n",
            "\u001b[32m[I 2022-04-18 05:40:05,114]\u001b[0m Trial 79 pruned. \u001b[0m\n",
            "\u001b[32m[I 2022-04-18 05:40:05,635]\u001b[0m Trial 80 pruned. \u001b[0m\n",
            "\u001b[32m[I 2022-04-18 05:40:06,166]\u001b[0m Trial 81 pruned. \u001b[0m\n",
            "\u001b[32m[I 2022-04-18 05:40:06,690]\u001b[0m Trial 82 pruned. \u001b[0m\n",
            "\u001b[32m[I 2022-04-18 05:40:07,220]\u001b[0m Trial 83 pruned. \u001b[0m\n",
            "\u001b[32m[I 2022-04-18 05:40:07,743]\u001b[0m Trial 84 pruned. \u001b[0m\n",
            "\u001b[32m[I 2022-04-18 05:40:08,270]\u001b[0m Trial 85 pruned. \u001b[0m\n",
            "\u001b[32m[I 2022-04-18 05:40:08,891]\u001b[0m Trial 86 pruned. \u001b[0m\n",
            "\u001b[32m[I 2022-04-18 05:40:09,449]\u001b[0m Trial 87 pruned. \u001b[0m\n",
            "\u001b[32m[I 2022-04-18 05:40:09,986]\u001b[0m Trial 88 pruned. \u001b[0m\n",
            "\u001b[32m[I 2022-04-18 05:40:10,570]\u001b[0m Trial 89 pruned. \u001b[0m\n",
            "\u001b[32m[I 2022-04-18 05:40:11,135]\u001b[0m Trial 90 pruned. \u001b[0m\n",
            "\u001b[32m[I 2022-04-18 05:40:13,549]\u001b[0m Trial 91 pruned. \u001b[0m\n",
            "\u001b[32m[I 2022-04-18 05:40:14,070]\u001b[0m Trial 92 pruned. \u001b[0m\n",
            "\u001b[32m[I 2022-04-18 05:40:14,592]\u001b[0m Trial 93 pruned. \u001b[0m\n",
            "\u001b[32m[I 2022-04-18 05:40:15,116]\u001b[0m Trial 94 pruned. \u001b[0m\n",
            "\u001b[32m[I 2022-04-18 05:40:15,631]\u001b[0m Trial 95 pruned. \u001b[0m\n",
            "\u001b[32m[I 2022-04-18 05:40:16,177]\u001b[0m Trial 96 pruned. \u001b[0m\n",
            "\u001b[32m[I 2022-04-18 05:40:16,723]\u001b[0m Trial 97 pruned. \u001b[0m\n",
            "\u001b[32m[I 2022-04-18 05:40:17,247]\u001b[0m Trial 98 pruned. \u001b[0m\n",
            "\u001b[32m[I 2022-04-18 05:40:17,769]\u001b[0m Trial 99 pruned. \u001b[0m\n"
          ]
        },
        {
          "output_type": "stream",
          "name": "stdout",
          "text": [
            "study statistic\n",
            "number of finished trials:  100\n",
            "number of proned trials:  87\n",
            "number of completed trials:  13\n",
            "Best trials:\n",
            "Value 0.88671875\n",
            "Params\n",
            "n_layers:1\n",
            "n_blocks:2\n",
            "weight_decay:2.576819579267082e-09\n",
            "n_units_l0:189\n",
            "dropout_l0:0.32341598763057056\n",
            "optimizers:Adam\n",
            "lr:0.002537427225966454\n"
          ]
        }
      ]
    },
    {
      "cell_type": "markdown",
      "source": [
        "# **Tensorflow**"
      ],
      "metadata": {
        "id": "cQdGvvhGh6ZP"
      }
    },
    {
      "cell_type": "code",
      "source": [
        "import tensorflow as tf\n",
        "from tensorflow.keras.datasets import fashion_mnist\n",
        "import numpy as np"
      ],
      "metadata": {
        "id": "oQByqDsSmAlR"
      },
      "execution_count": 3,
      "outputs": []
    },
    {
      "cell_type": "code",
      "source": [
        "N_TRAIN_EXAMPLES = 3000\n",
        "N_VALID_EXAMPLES = 1000\n",
        "BATCHSIZE = 128\n",
        "CLASSES = 10\n",
        "EPOCHS = 1"
      ],
      "metadata": {
        "id": "dm4LJ2gzh5Ng"
      },
      "execution_count": 4,
      "outputs": []
    },
    {
      "cell_type": "code",
      "source": [
        "def create_model(trial):\n",
        "    # We optimize the numbers of layers, their units and weight decay parameter.\n",
        "    n_layers = trial.suggest_int(\"n_layers\", 1, 3)\n",
        "    n_blocks = trial.suggest_int(\"n_blocks\", 2, 5)\n",
        "    weight_decay = trial.suggest_float(\"weight_decay\", 1e-10, 1e-3, log=True)\n",
        "\n",
        "    num_filters2=28\n",
        "    drop_dense2=0.5\n",
        "    drop_conv2=0\n",
        "    num_classes = 10\n",
        "    ac2='relu'\n",
        "    reg2=None\n",
        "\n",
        "    model = tf.keras.Sequential()\n",
        "\n",
        "    model.add(tf.keras.layers.Input((28, 28, 3)))\n",
        "    for i in range(1,n_blocks):\n",
        "        model.add(tf.keras.layers.Conv2D(i*num_filters2, (3, 3), activation=ac2, kernel_regularizer=reg2,padding='same'))\n",
        "        model.add(tf.keras.layers.BatchNormalization(axis=-1))\n",
        "        model.add(tf.keras.layers.Conv2D(i*num_filters2, (3, 3), activation=ac2,kernel_regularizer=reg2,padding='same'))\n",
        "        model.add(tf.keras.layers.BatchNormalization(axis=-1))\n",
        "        model.add(tf.keras.layers.MaxPooling2D(pool_size=(2, 2)))   # reduces to 16x16x3xnum_filters\n",
        "        model.add(tf.keras.layers.Dropout(drop_conv2))\n",
        "\n",
        "    model.add(tf.keras.layers.Flatten())\n",
        "    for i in range(n_layers):\n",
        "        num_hidden = trial.suggest_int(\"n_units_l{}\".format(i), 4, 128, log=True)\n",
        "        model.add(\n",
        "            tf.keras.layers.Dense(\n",
        "                num_hidden,\n",
        "                activation=\"relu\",\n",
        "                kernel_regularizer=tf.keras.regularizers.l2(weight_decay),\n",
        "            )\n",
        "        )\n",
        "    model.add(\n",
        "        tf.keras.layers.Dense(CLASSES, kernel_regularizer=tf.keras.regularizers.l2(weight_decay))\n",
        "    )\n",
        "    return model"
      ],
      "metadata": {
        "id": "syQ7goM7rgBr"
      },
      "execution_count": 5,
      "outputs": []
    },
    {
      "cell_type": "code",
      "source": [
        "def create_optimizer(trial):\n",
        "    # We optimize the choice of optimizers as well as their parameters.\n",
        "    kwargs = {}\n",
        "    optimizer_options = [\"RMSprop\", \"Adam\", \"SGD\"]\n",
        "    optimizer_selected = trial.suggest_categorical(\"optimizer\", optimizer_options)\n",
        "    if optimizer_selected == \"RMSprop\":\n",
        "        kwargs[\"learning_rate\"] = trial.suggest_float(\n",
        "            \"rmsprop_learning_rate\", 1e-5, 1e-1, log=True\n",
        "        )\n",
        "        kwargs[\"decay\"] = trial.suggest_float(\"rmsprop_decay\", 0.85, 0.99)\n",
        "        kwargs[\"momentum\"] = trial.suggest_float(\"rmsprop_momentum\", 1e-5, 1e-1, log=True)\n",
        "    elif optimizer_selected == \"Adam\":\n",
        "        kwargs[\"learning_rate\"] = trial.suggest_float(\"adam_learning_rate\", 1e-5, 1e-1, log=True)\n",
        "    elif optimizer_selected == \"SGD\":\n",
        "        kwargs[\"learning_rate\"] = trial.suggest_float(\n",
        "            \"sgd_opt_learning_rate\", 1e-5, 1e-1, log=True\n",
        "        )\n",
        "        kwargs[\"momentum\"] = trial.suggest_float(\"sgd_opt_momentum\", 1e-5, 1e-1, log=True)\n",
        "\n",
        "    optimizer = getattr(tf.optimizers, optimizer_selected)(**kwargs)\n",
        "    return optimizer\n"
      ],
      "metadata": {
        "id": "kcha5ubemKip"
      },
      "execution_count": 6,
      "outputs": []
    },
    {
      "cell_type": "code",
      "source": [
        "def learn(model, optimizer, dataset, mode=\"eval\"):\n",
        "    accuracy = tf.metrics.Accuracy(\"accuracy\", dtype=tf.float32)\n",
        "\n",
        "    for batch, (images, labels) in enumerate(dataset):\n",
        "        with tf.GradientTape() as tape:\n",
        "            logits = model(images, training=(mode == \"train\"))\n",
        "            loss_value = tf.reduce_mean(\n",
        "                tf.nn.sparse_softmax_cross_entropy_with_logits(logits=logits, labels=labels)\n",
        "            )\n",
        "            if mode == \"eval\":\n",
        "                accuracy(\n",
        "                    tf.argmax(logits, axis=1, output_type=tf.int64), tf.cast(labels, tf.int64)\n",
        "                )\n",
        "            else:\n",
        "                #unconnected_gradients=tf.UnconnectedGradients.ZERO\n",
        "                grads = tape.gradient(loss_value, model.trainable_variables)  # use model.variables if no bacthnormalize and not need to use unconnected_gradients\n",
        "                optimizer.apply_gradients(zip(grads, model.trainable_variables)) \n",
        "\n",
        "    if mode == \"eval\":        \n",
        "        return accuracy"
      ],
      "metadata": {
        "id": "9qLLwLo8mNoo"
      },
      "execution_count": 7,
      "outputs": []
    },
    {
      "cell_type": "code",
      "source": [
        "def get_fashion_mnist():\n",
        "    (x_train, y_train), (x_valid, y_valid) = fashion_mnist.load_data()   \n",
        "\n",
        "    x_train = x_train.astype(\"float32\") / 255\n",
        "    x_valid = x_valid.astype(\"float32\") / 255\n",
        "\n",
        "    y_train = y_train.astype(\"int32\")\n",
        "    y_valid = y_valid.astype(\"int32\")\n",
        "\n",
        "    #if use conv2d\n",
        "    x_train = tf.expand_dims(x_train,axis=-1)\n",
        "    x_valid = tf.expand_dims(x_valid,axis=-1)\n",
        "    x_train  = tf.image.grayscale_to_rgb(x_train)\n",
        "    x_valid  = tf.image.grayscale_to_rgb(x_valid)\n",
        "    ##\n",
        "\n",
        "    train_ds = tf.data.Dataset.from_tensor_slices((x_train, y_train))\n",
        "    train_ds = train_ds.shuffle(60000).batch(BATCHSIZE).take(N_TRAIN_EXAMPLES)\n",
        "\n",
        "    valid_ds = tf.data.Dataset.from_tensor_slices((x_valid, y_valid))\n",
        "    valid_ds = valid_ds.shuffle(10000).batch(BATCHSIZE).take(N_VALID_EXAMPLES)\n",
        "    return train_ds, valid_ds"
      ],
      "metadata": {
        "id": "tjJwDP4zmOgw"
      },
      "execution_count": 8,
      "outputs": []
    },
    {
      "cell_type": "code",
      "source": [
        "def objective(trial):\n",
        "    # Get MNIST data.\n",
        "    train_ds, valid_ds = get_fashion_mnist()\n",
        "\n",
        "    # Build model and optimizer.\n",
        "    model = create_model(trial)\n",
        "    optimizer = create_optimizer(trial)\n",
        "\n",
        "    # Training and validating cycle.\n",
        "    with tf.device(\"/GPU:0\"):\n",
        "        for _ in range(EPOCHS):\n",
        "            learn(model, optimizer, train_ds, \"train\")\n",
        "\n",
        "        accuracy = learn(model, optimizer, valid_ds, \"eval\")    \n",
        "\n",
        "    # Return last validation accuracy.\n",
        "    return accuracy.result()"
      ],
      "metadata": {
        "id": "qHKYEhIymRGw"
      },
      "execution_count": 9,
      "outputs": []
    },
    {
      "cell_type": "markdown",
      "source": [
        "# **Optuna Area**"
      ],
      "metadata": {
        "id": "7JgYr--mmTk3"
      }
    },
    {
      "cell_type": "code",
      "source": [
        "study = optuna.create_study(direction=\"maximize\")\n",
        "study.optimize(objective, n_trials=100)\n",
        "\n",
        "print(\"Number of finished trials: \", len(study.trials))\n",
        "\n",
        "print(\"Best trial:\")\n",
        "trial = study.best_trial\n",
        "\n",
        "print(\"  Value: \", trial.value)\n",
        "\n",
        "print(\"  Params: \")\n",
        "for key, value in trial.params.items():\n",
        "    print(\"    {}: {}\".format(key, value))"
      ],
      "metadata": {
        "colab": {
          "base_uri": "https://localhost:8080/"
        },
        "id": "1V-CZ7FEmVz_",
        "outputId": "edf2bfde-6e79-4742-c772-e9c435cd4aea"
      },
      "execution_count": 10,
      "outputs": [
        {
          "output_type": "stream",
          "name": "stderr",
          "text": [
            "\u001b[32m[I 2022-04-18 01:33:00,622]\u001b[0m A new study created in memory with name: no-name-8101c920-e3f7-4191-8a6d-6cf9236d0732\u001b[0m\n"
          ]
        },
        {
          "output_type": "stream",
          "name": "stdout",
          "text": [
            "Downloading data from https://storage.googleapis.com/tensorflow/tf-keras-datasets/train-labels-idx1-ubyte.gz\n",
            "32768/29515 [=================================] - 0s 0us/step\n",
            "40960/29515 [=========================================] - 0s 0us/step\n",
            "Downloading data from https://storage.googleapis.com/tensorflow/tf-keras-datasets/train-images-idx3-ubyte.gz\n",
            "26427392/26421880 [==============================] - 0s 0us/step\n",
            "26435584/26421880 [==============================] - 0s 0us/step\n",
            "Downloading data from https://storage.googleapis.com/tensorflow/tf-keras-datasets/t10k-labels-idx1-ubyte.gz\n",
            "16384/5148 [===============================================================================================] - 0s 0us/step\n",
            "Downloading data from https://storage.googleapis.com/tensorflow/tf-keras-datasets/t10k-images-idx3-ubyte.gz\n",
            "4423680/4422102 [==============================] - 0s 0us/step\n",
            "4431872/4422102 [==============================] - 0s 0us/step\n"
          ]
        },
        {
          "output_type": "stream",
          "name": "stderr",
          "text": [
            "\u001b[32m[I 2022-04-18 01:33:28,687]\u001b[0m Trial 0 finished with value: 0.2011999934911728 and parameters: {'n_layers': 1, 'n_blocks': 4, 'weight_decay': 1.4281756309299527e-09, 'n_units_l0': 9, 'optimizer': 'RMSprop', 'rmsprop_learning_rate': 0.0001362782370178351, 'rmsprop_decay': 0.9414219033836515, 'rmsprop_momentum': 0.008363942906356506}. Best is trial 0 with value: 0.2011999934911728.\u001b[0m\n",
            "\u001b[32m[I 2022-04-18 01:33:42,671]\u001b[0m Trial 1 finished with value: 0.7930999994277954 and parameters: {'n_layers': 2, 'n_blocks': 4, 'weight_decay': 2.0839350240977483e-08, 'n_units_l0': 27, 'n_units_l1': 126, 'optimizer': 'Adam', 'adam_learning_rate': 0.004658236199794476}. Best is trial 1 with value: 0.7930999994277954.\u001b[0m\n",
            "\u001b[32m[I 2022-04-18 01:33:52,869]\u001b[0m Trial 2 finished with value: 0.741100013256073 and parameters: {'n_layers': 1, 'n_blocks': 3, 'weight_decay': 0.0004589575270552784, 'n_units_l0': 14, 'optimizer': 'Adam', 'adam_learning_rate': 0.000516791718695325}. Best is trial 1 with value: 0.7930999994277954.\u001b[0m\n",
            "\u001b[32m[I 2022-04-18 01:34:09,045]\u001b[0m Trial 3 finished with value: 0.8640999794006348 and parameters: {'n_layers': 2, 'n_blocks': 5, 'weight_decay': 1.3446434328993881e-08, 'n_units_l0': 96, 'n_units_l1': 67, 'optimizer': 'SGD', 'sgd_opt_learning_rate': 0.06825535074424396, 'sgd_opt_momentum': 0.07266246914058438}. Best is trial 3 with value: 0.8640999794006348.\u001b[0m\n",
            "\u001b[32m[I 2022-04-18 01:34:25,179]\u001b[0m Trial 4 finished with value: 0.7878999710083008 and parameters: {'n_layers': 1, 'n_blocks': 5, 'weight_decay': 9.738717917952772e-06, 'n_units_l0': 53, 'optimizer': 'Adam', 'adam_learning_rate': 0.005000709108988928}. Best is trial 3 with value: 0.8640999794006348.\u001b[0m\n",
            "\u001b[32m[I 2022-04-18 01:34:41,607]\u001b[0m Trial 5 finished with value: 0.8309000134468079 and parameters: {'n_layers': 1, 'n_blocks': 5, 'weight_decay': 2.1662345358425548e-08, 'n_units_l0': 117, 'optimizer': 'Adam', 'adam_learning_rate': 0.0008661745386673531}. Best is trial 3 with value: 0.8640999794006348.\u001b[0m\n",
            "\u001b[32m[I 2022-04-18 01:34:54,790]\u001b[0m Trial 6 finished with value: 0.6977999806404114 and parameters: {'n_layers': 1, 'n_blocks': 4, 'weight_decay': 1.270484508115849e-10, 'n_units_l0': 79, 'optimizer': 'RMSprop', 'rmsprop_learning_rate': 0.07774350632053827, 'rmsprop_decay': 0.8603901193829537, 'rmsprop_momentum': 0.020808457337160313}. Best is trial 3 with value: 0.8640999794006348.\u001b[0m\n",
            "\u001b[32m[I 2022-04-18 01:35:05,539]\u001b[0m Trial 7 finished with value: 0.23499999940395355 and parameters: {'n_layers': 3, 'n_blocks': 3, 'weight_decay': 0.0001010829851641375, 'n_units_l0': 41, 'n_units_l1': 5, 'n_units_l2': 7, 'optimizer': 'SGD', 'sgd_opt_learning_rate': 0.00028222576664797215, 'sgd_opt_momentum': 0.02939029036436641}. Best is trial 3 with value: 0.8640999794006348.\u001b[0m\n",
            "\u001b[32m[I 2022-04-18 01:35:12,780]\u001b[0m Trial 8 finished with value: 0.2011999934911728 and parameters: {'n_layers': 1, 'n_blocks': 2, 'weight_decay': 1.9460681207350057e-07, 'n_units_l0': 6, 'optimizer': 'RMSprop', 'rmsprop_learning_rate': 7.862261846773458e-05, 'rmsprop_decay': 0.8854531280968401, 'rmsprop_momentum': 4.473505824903474e-05}. Best is trial 3 with value: 0.8640999794006348.\u001b[0m\n",
            "\u001b[32m[I 2022-04-18 01:35:26,606]\u001b[0m Trial 9 finished with value: 0.41749998927116394 and parameters: {'n_layers': 2, 'n_blocks': 4, 'weight_decay': 5.152165304803028e-05, 'n_units_l0': 5, 'n_units_l1': 5, 'optimizer': 'Adam', 'adam_learning_rate': 2.0414483094321265e-05}. Best is trial 3 with value: 0.8640999794006348.\u001b[0m\n",
            "\u001b[32m[I 2022-04-18 01:35:43,356]\u001b[0m Trial 10 finished with value: 0.8327000141143799 and parameters: {'n_layers': 3, 'n_blocks': 5, 'weight_decay': 1.0543691485305854e-06, 'n_units_l0': 124, 'n_units_l1': 68, 'n_units_l2': 119, 'optimizer': 'SGD', 'sgd_opt_learning_rate': 0.0810728218484114, 'sgd_opt_momentum': 2.2760592102787253e-05}. Best is trial 3 with value: 0.8640999794006348.\u001b[0m\n",
            "\u001b[32m[I 2022-04-18 01:36:00,310]\u001b[0m Trial 11 finished with value: 0.7979000210762024 and parameters: {'n_layers': 3, 'n_blocks': 5, 'weight_decay': 8.726483852346514e-07, 'n_units_l0': 128, 'n_units_l1': 78, 'n_units_l2': 124, 'optimizer': 'SGD', 'sgd_opt_learning_rate': 0.08648565726936466, 'sgd_opt_momentum': 1.0471784650120796e-05}. Best is trial 3 with value: 0.8640999794006348.\u001b[0m\n",
            "\u001b[32m[I 2022-04-18 01:36:17,189]\u001b[0m Trial 12 finished with value: 0.8572999835014343 and parameters: {'n_layers': 3, 'n_blocks': 5, 'weight_decay': 7.970670868638668e-07, 'n_units_l0': 64, 'n_units_l1': 34, 'n_units_l2': 110, 'optimizer': 'SGD', 'sgd_opt_learning_rate': 0.09619734121657132, 'sgd_opt_momentum': 4.950651255628328e-05}. Best is trial 3 with value: 0.8640999794006348.\u001b[0m\n",
            "\u001b[32m[I 2022-04-18 01:36:33,403]\u001b[0m Trial 13 finished with value: 0.8184999823570251 and parameters: {'n_layers': 2, 'n_blocks': 5, 'weight_decay': 4.1622043680986284e-08, 'n_units_l0': 54, 'n_units_l1': 33, 'optimizer': 'SGD', 'sgd_opt_learning_rate': 0.011102330616516673, 'sgd_opt_momentum': 0.05972959574140874}. Best is trial 3 with value: 0.8640999794006348.\u001b[0m\n",
            "\u001b[32m[I 2022-04-18 01:36:41,372]\u001b[0m Trial 14 finished with value: 0.1062999963760376 and parameters: {'n_layers': 3, 'n_blocks': 2, 'weight_decay': 2.1086060193886518e-09, 'n_units_l0': 28, 'n_units_l1': 23, 'n_units_l2': 29, 'optimizer': 'SGD', 'sgd_opt_learning_rate': 1.8367038297726625e-05, 'sgd_opt_momentum': 0.0006338844240536729}. Best is trial 3 with value: 0.8640999794006348.\u001b[0m\n",
            "\u001b[32m[I 2022-04-18 01:36:57,490]\u001b[0m Trial 15 finished with value: 0.7472000122070312 and parameters: {'n_layers': 2, 'n_blocks': 5, 'weight_decay': 5.435406873972566e-06, 'n_units_l0': 74, 'n_units_l1': 39, 'optimizer': 'SGD', 'sgd_opt_learning_rate': 0.006149554927587709, 'sgd_opt_momentum': 0.0005715926691679985}. Best is trial 3 with value: 0.8640999794006348.\u001b[0m\n",
            "\u001b[32m[I 2022-04-18 01:37:07,795]\u001b[0m Trial 16 finished with value: 0.8267999887466431 and parameters: {'n_layers': 2, 'n_blocks': 3, 'weight_decay': 1.50497685019886e-07, 'n_units_l0': 17, 'n_units_l1': 11, 'optimizer': 'SGD', 'sgd_opt_learning_rate': 0.011031678574879225, 'sgd_opt_momentum': 0.006008779290655994}. Best is trial 3 with value: 0.8640999794006348.\u001b[0m\n",
            "\u001b[32m[I 2022-04-18 01:37:21,773]\u001b[0m Trial 17 finished with value: 0.8353000283241272 and parameters: {'n_layers': 3, 'n_blocks': 4, 'weight_decay': 2.8955506673870587e-09, 'n_units_l0': 37, 'n_units_l1': 12, 'n_units_l2': 31, 'optimizer': 'SGD', 'sgd_opt_learning_rate': 0.08953808396863785, 'sgd_opt_momentum': 0.0001004652002194201}. Best is trial 3 with value: 0.8640999794006348.\u001b[0m\n",
            "\u001b[32m[I 2022-04-18 01:37:37,771]\u001b[0m Trial 18 finished with value: 0.6916999816894531 and parameters: {'n_layers': 2, 'n_blocks': 5, 'weight_decay': 1.0711948060540205e-10, 'n_units_l0': 79, 'n_units_l1': 55, 'optimizer': 'SGD', 'sgd_opt_learning_rate': 0.0014305399749498975, 'sgd_opt_momentum': 0.004193391490960531}. Best is trial 3 with value: 0.8640999794006348.\u001b[0m\n",
            "\u001b[32m[I 2022-04-18 01:37:51,613]\u001b[0m Trial 19 finished with value: 0.8202000260353088 and parameters: {'n_layers': 3, 'n_blocks': 4, 'weight_decay': 6.242400032020228e-06, 'n_units_l0': 63, 'n_units_l1': 17, 'n_units_l2': 4, 'optimizer': 'SGD', 'sgd_opt_learning_rate': 0.01912367555147315, 'sgd_opt_momentum': 8.570099236772374e-05}. Best is trial 3 with value: 0.8640999794006348.\u001b[0m\n",
            "\u001b[32m[I 2022-04-18 01:38:08,146]\u001b[0m Trial 20 finished with value: 0.5602999925613403 and parameters: {'n_layers': 2, 'n_blocks': 5, 'weight_decay': 1.0066399009348486e-06, 'n_units_l0': 38, 'n_units_l1': 116, 'optimizer': 'RMSprop', 'rmsprop_learning_rate': 0.017365267472883736, 'rmsprop_decay': 0.9831112185636874, 'rmsprop_momentum': 1.4068869086827974e-05}. Best is trial 3 with value: 0.8640999794006348.\u001b[0m\n",
            "\u001b[32m[I 2022-04-18 01:38:21,877]\u001b[0m Trial 21 finished with value: 0.8511999845504761 and parameters: {'n_layers': 3, 'n_blocks': 4, 'weight_decay': 2.228950189242487e-09, 'n_units_l0': 36, 'n_units_l1': 9, 'n_units_l2': 36, 'optimizer': 'SGD', 'sgd_opt_learning_rate': 0.0880726035457901, 'sgd_opt_momentum': 9.857895766260504e-05}. Best is trial 3 with value: 0.8640999794006348.\u001b[0m\n",
            "\u001b[32m[I 2022-04-18 01:38:35,786]\u001b[0m Trial 22 finished with value: 0.8165000081062317 and parameters: {'n_layers': 3, 'n_blocks': 4, 'weight_decay': 5.793778727145777e-09, 'n_units_l0': 86, 'n_units_l1': 8, 'n_units_l2': 53, 'optimizer': 'SGD', 'sgd_opt_learning_rate': 0.0355944852632742, 'sgd_opt_momentum': 7.656303529336683e-05}. Best is trial 3 with value: 0.8640999794006348.\u001b[0m\n",
            "\u001b[32m[I 2022-04-18 01:38:52,128]\u001b[0m Trial 23 finished with value: 0.4438999891281128 and parameters: {'n_layers': 3, 'n_blocks': 5, 'weight_decay': 5.7426443073446445e-08, 'n_units_l0': 24, 'n_units_l1': 30, 'n_units_l2': 13, 'optimizer': 'SGD', 'sgd_opt_learning_rate': 0.0011557359520600807, 'sgd_opt_momentum': 0.00024443197063344507}. Best is trial 3 with value: 0.8640999794006348.\u001b[0m\n",
            "\u001b[32m[I 2022-04-18 01:39:02,503]\u001b[0m Trial 24 finished with value: 0.8116999864578247 and parameters: {'n_layers': 2, 'n_blocks': 3, 'weight_decay': 3.539187584266446e-10, 'n_units_l0': 40, 'n_units_l1': 50, 'optimizer': 'SGD', 'sgd_opt_learning_rate': 0.03488864644717918, 'sgd_opt_momentum': 0.002252253772361319}. Best is trial 3 with value: 0.8640999794006348.\u001b[0m\n",
            "\u001b[32m[I 2022-04-18 01:39:16,314]\u001b[0m Trial 25 finished with value: 0.7558000087738037 and parameters: {'n_layers': 3, 'n_blocks': 4, 'weight_decay': 9.104782663834959e-09, 'n_units_l0': 98, 'n_units_l1': 17, 'n_units_l2': 56, 'optimizer': 'SGD', 'sgd_opt_learning_rate': 0.00255368188751959, 'sgd_opt_momentum': 3.159982182863377e-05}. Best is trial 3 with value: 0.8640999794006348.\u001b[0m\n",
            "\u001b[32m[I 2022-04-18 01:39:32,870]\u001b[0m Trial 26 finished with value: 0.16899999976158142 and parameters: {'n_layers': 3, 'n_blocks': 5, 'weight_decay': 7.65713958181867e-10, 'n_units_l0': 53, 'n_units_l1': 7, 'n_units_l2': 66, 'optimizer': 'SGD', 'sgd_opt_learning_rate': 0.0002172921519850033, 'sgd_opt_momentum': 0.0138321901922962}. Best is trial 3 with value: 0.8640999794006348.\u001b[0m\n",
            "\u001b[32m[I 2022-04-18 01:39:48,785]\u001b[0m Trial 27 finished with value: 0.8472999930381775 and parameters: {'n_layers': 2, 'n_blocks': 5, 'weight_decay': 9.3401550244991e-08, 'n_units_l0': 18, 'n_units_l1': 23, 'optimizer': 'SGD', 'sgd_opt_learning_rate': 0.027848608939153318, 'sgd_opt_momentum': 0.00023394083721460602}. Best is trial 3 with value: 0.8640999794006348.\u001b[0m\n",
            "\u001b[32m[I 2022-04-18 01:40:03,114]\u001b[0m Trial 28 finished with value: 0.7300000190734863 and parameters: {'n_layers': 3, 'n_blocks': 4, 'weight_decay': 4.547410176384117e-07, 'n_units_l0': 32, 'n_units_l1': 39, 'n_units_l2': 15, 'optimizer': 'RMSprop', 'rmsprop_learning_rate': 0.0023313837670140697, 'rmsprop_decay': 0.9255149050590983, 'rmsprop_momentum': 0.00032607264292625445}. Best is trial 3 with value: 0.8640999794006348.\u001b[0m\n",
            "\u001b[32m[I 2022-04-18 01:40:16,163]\u001b[0m Trial 29 finished with value: 0.8098999857902527 and parameters: {'n_layers': 2, 'n_blocks': 4, 'weight_decay': 4.5964991060077567e-10, 'n_units_l0': 13, 'n_units_l1': 82, 'optimizer': 'SGD', 'sgd_opt_learning_rate': 0.005916518650098753, 'sgd_opt_momentum': 3.3790624048708e-05}. Best is trial 3 with value: 0.8640999794006348.\u001b[0m\n",
            "\u001b[32m[I 2022-04-18 01:40:27,354]\u001b[0m Trial 30 finished with value: 0.09719999879598618 and parameters: {'n_layers': 3, 'n_blocks': 3, 'weight_decay': 8.805920810068367e-09, 'n_units_l0': 8, 'n_units_l1': 4, 'n_units_l2': 74, 'optimizer': 'RMSprop', 'rmsprop_learning_rate': 1.1076882460631052e-05, 'rmsprop_decay': 0.983490819835072, 'rmsprop_momentum': 0.0889606030481087}. Best is trial 3 with value: 0.8640999794006348.\u001b[0m\n",
            "\u001b[32m[I 2022-04-18 01:40:43,675]\u001b[0m Trial 31 finished with value: 0.7875999808311462 and parameters: {'n_layers': 2, 'n_blocks': 5, 'weight_decay': 1.3364651553831145e-07, 'n_units_l0': 19, 'n_units_l1': 22, 'optimizer': 'SGD', 'sgd_opt_learning_rate': 0.03507236690575213, 'sgd_opt_momentum': 0.0002293417005097219}. Best is trial 3 with value: 0.8640999794006348.\u001b[0m\n",
            "\u001b[32m[I 2022-04-18 01:40:59,632]\u001b[0m Trial 32 finished with value: 0.83160001039505 and parameters: {'n_layers': 2, 'n_blocks': 5, 'weight_decay': 6.257437822423466e-08, 'n_units_l0': 11, 'n_units_l1': 27, 'optimizer': 'SGD', 'sgd_opt_learning_rate': 0.0946434227519374, 'sgd_opt_momentum': 0.0002668919371688774}. Best is trial 3 with value: 0.8640999794006348.\u001b[0m\n",
            "\u001b[32m[I 2022-04-18 01:41:15,960]\u001b[0m Trial 33 finished with value: 0.6707000136375427 and parameters: {'n_layers': 2, 'n_blocks': 5, 'weight_decay': 1.6056530695515695e-08, 'n_units_l0': 22, 'n_units_l1': 14, 'optimizer': 'SGD', 'sgd_opt_learning_rate': 0.03534996036560251, 'sgd_opt_momentum': 0.0011278435555869284}. Best is trial 3 with value: 0.8640999794006348.\u001b[0m\n",
            "\u001b[32m[I 2022-04-18 01:41:32,488]\u001b[0m Trial 34 finished with value: 0.2754000127315521 and parameters: {'n_layers': 2, 'n_blocks': 5, 'weight_decay': 2.0897872998549536e-06, 'n_units_l0': 63, 'n_units_l1': 49, 'optimizer': 'Adam', 'adam_learning_rate': 0.09230898946922417}. Best is trial 3 with value: 0.8640999794006348.\u001b[0m\n",
            "\u001b[32m[I 2022-04-18 01:41:45,798]\u001b[0m Trial 35 finished with value: 0.7574999928474426 and parameters: {'n_layers': 2, 'n_blocks': 4, 'weight_decay': 1.4776448066455613e-09, 'n_units_l0': 48, 'n_units_l1': 8, 'optimizer': 'SGD', 'sgd_opt_learning_rate': 0.021791632095798718, 'sgd_opt_momentum': 0.00012683692181030725}. Best is trial 3 with value: 0.8640999794006348.\u001b[0m\n",
            "\u001b[32m[I 2022-04-18 01:42:02,016]\u001b[0m Trial 36 finished with value: 0.5706999897956848 and parameters: {'n_layers': 1, 'n_blocks': 5, 'weight_decay': 4.3081975989566925e-09, 'n_units_l0': 104, 'optimizer': 'Adam', 'adam_learning_rate': 1.0963300786848609e-05}. Best is trial 3 with value: 0.8640999794006348.\u001b[0m\n",
            "\u001b[32m[I 2022-04-18 01:42:15,291]\u001b[0m Trial 37 finished with value: 0.8062000274658203 and parameters: {'n_layers': 2, 'n_blocks': 4, 'weight_decay': 2.6301538740178637e-08, 'n_units_l0': 16, 'n_units_l1': 113, 'optimizer': 'SGD', 'sgd_opt_learning_rate': 0.050944633333499724, 'sgd_opt_momentum': 5.979505264673066e-05}. Best is trial 3 with value: 0.8640999794006348.\u001b[0m\n",
            "\u001b[32m[I 2022-04-18 01:42:31,024]\u001b[0m Trial 38 finished with value: 0.8180000185966492 and parameters: {'n_layers': 1, 'n_blocks': 5, 'weight_decay': 2.9970235651129427e-07, 'n_units_l0': 26, 'optimizer': 'SGD', 'sgd_opt_learning_rate': 0.017748235432641934, 'sgd_opt_momentum': 0.08689813266943612}. Best is trial 3 with value: 0.8640999794006348.\u001b[0m\n",
            "\u001b[32m[I 2022-04-18 01:42:39,127]\u001b[0m Trial 39 finished with value: 0.8181999921798706 and parameters: {'n_layers': 3, 'n_blocks': 2, 'weight_decay': 2.9201382480869645e-06, 'n_units_l0': 31, 'n_units_l1': 18, 'n_units_l2': 35, 'optimizer': 'Adam', 'adam_learning_rate': 0.00012229590076330677}. Best is trial 3 with value: 0.8640999794006348.\u001b[0m\n",
            "\u001b[32m[I 2022-04-18 01:42:55,846]\u001b[0m Trial 40 finished with value: 0.6886000037193298 and parameters: {'n_layers': 2, 'n_blocks': 5, 'weight_decay': 3.539944017397744e-05, 'n_units_l0': 67, 'n_units_l1': 37, 'optimizer': 'RMSprop', 'rmsprop_learning_rate': 0.0023897248585860354, 'rmsprop_decay': 0.8897960714810031, 'rmsprop_momentum': 0.0006219688753914387}. Best is trial 3 with value: 0.8640999794006348.\u001b[0m\n",
            "\u001b[32m[I 2022-04-18 01:43:09,651]\u001b[0m Trial 41 finished with value: 0.819599986076355 and parameters: {'n_layers': 3, 'n_blocks': 4, 'weight_decay': 2.8620445465373793e-09, 'n_units_l0': 50, 'n_units_l1': 11, 'n_units_l2': 23, 'optimizer': 'SGD', 'sgd_opt_learning_rate': 0.0780471969589606, 'sgd_opt_momentum': 0.0001555288034844716}. Best is trial 3 with value: 0.8640999794006348.\u001b[0m\n",
            "\u001b[32m[I 2022-04-18 01:43:23,524]\u001b[0m Trial 42 finished with value: 0.8672000169754028 and parameters: {'n_layers': 3, 'n_blocks': 4, 'weight_decay': 7.609505255305783e-10, 'n_units_l0': 35, 'n_units_l1': 11, 'n_units_l2': 40, 'optimizer': 'SGD', 'sgd_opt_learning_rate': 0.09873621342064103, 'sgd_opt_momentum': 0.00043120839627025314}. Best is trial 42 with value: 0.8672000169754028.\u001b[0m\n",
            "\u001b[32m[I 2022-04-18 01:43:37,026]\u001b[0m Trial 43 finished with value: 0.7730000019073486 and parameters: {'n_layers': 3, 'n_blocks': 4, 'weight_decay': 3.135485812282871e-10, 'n_units_l0': 35, 'n_units_l1': 6, 'n_units_l2': 43, 'optimizer': 'SGD', 'sgd_opt_learning_rate': 0.049520709424833574, 'sgd_opt_momentum': 0.0004476338775023508}. Best is trial 42 with value: 0.8672000169754028.\u001b[0m\n",
            "\u001b[32m[I 2022-04-18 01:43:47,980]\u001b[0m Trial 44 finished with value: 0.8457000255584717 and parameters: {'n_layers': 3, 'n_blocks': 3, 'weight_decay': 1.4682614101159035e-08, 'n_units_l0': 45, 'n_units_l1': 14, 'n_units_l2': 87, 'optimizer': 'SGD', 'sgd_opt_learning_rate': 0.048021569902493504, 'sgd_opt_momentum': 0.0010893677222491634}. Best is trial 42 with value: 0.8672000169754028.\u001b[0m\n",
            "\u001b[32m[I 2022-04-18 01:44:01,674]\u001b[0m Trial 45 finished with value: 0.7350999712944031 and parameters: {'n_layers': 3, 'n_blocks': 4, 'weight_decay': 7.6074792674758e-10, 'n_units_l0': 101, 'n_units_l1': 9, 'n_units_l2': 16, 'optimizer': 'SGD', 'sgd_opt_learning_rate': 0.09642247783885598, 'sgd_opt_momentum': 4.495262281436389e-05}. Best is trial 42 with value: 0.8672000169754028.\u001b[0m\n",
            "\u001b[32m[I 2022-04-18 01:44:18,288]\u001b[0m Trial 46 finished with value: 0.14079999923706055 and parameters: {'n_layers': 3, 'n_blocks': 5, 'weight_decay': 6.73030585949988e-08, 'n_units_l0': 4, 'n_units_l1': 25, 'n_units_l2': 90, 'optimizer': 'SGD', 'sgd_opt_learning_rate': 0.000408604449410716, 'sgd_opt_momentum': 0.00039003695547926886}. Best is trial 42 with value: 0.8672000169754028.\u001b[0m\n",
            "\u001b[32m[I 2022-04-18 01:44:34,175]\u001b[0m Trial 47 finished with value: 0.7070000171661377 and parameters: {'n_layers': 1, 'n_blocks': 5, 'weight_decay': 2.0690401007535058e-10, 'n_units_l0': 21, 'optimizer': 'Adam', 'adam_learning_rate': 0.06551821065295986}. Best is trial 42 with value: 0.8672000169754028.\u001b[0m\n",
            "\u001b[32m[I 2022-04-18 01:44:44,634]\u001b[0m Trial 48 finished with value: 0.8709999918937683 and parameters: {'n_layers': 2, 'n_blocks': 3, 'weight_decay': 8.827643628030673e-10, 'n_units_l0': 87, 'n_units_l1': 20, 'optimizer': 'SGD', 'sgd_opt_learning_rate': 0.02408178543608144, 'sgd_opt_momentum': 1.4094320329325927e-05}. Best is trial 48 with value: 0.8709999918937683.\u001b[0m\n",
            "\u001b[32m[I 2022-04-18 01:44:55,476]\u001b[0m Trial 49 finished with value: 0.7930999994277954 and parameters: {'n_layers': 3, 'n_blocks': 3, 'weight_decay': 9.774474260912214e-10, 'n_units_l0': 88, 'n_units_l1': 6, 'n_units_l2': 43, 'optimizer': 'SGD', 'sgd_opt_learning_rate': 0.011471102973991698, 'sgd_opt_momentum': 1.6347340871335994e-05}. Best is trial 48 with value: 0.8709999918937683.\u001b[0m\n",
            "\u001b[32m[I 2022-04-18 01:45:05,845]\u001b[0m Trial 50 finished with value: 0.8687000274658203 and parameters: {'n_layers': 2, 'n_blocks': 3, 'weight_decay': 1.962785847318497e-10, 'n_units_l0': 59, 'n_units_l1': 90, 'optimizer': 'SGD', 'sgd_opt_learning_rate': 0.05280206289075269, 'sgd_opt_momentum': 1.3735489229430105e-05}. Best is trial 48 with value: 0.8709999918937683.\u001b[0m\n",
            "\u001b[32m[I 2022-04-18 01:45:16,250]\u001b[0m Trial 51 finished with value: 0.8101000189781189 and parameters: {'n_layers': 2, 'n_blocks': 3, 'weight_decay': 1.6606277588547014e-10, 'n_units_l0': 59, 'n_units_l1': 86, 'optimizer': 'SGD', 'sgd_opt_learning_rate': 0.06254145099432666, 'sgd_opt_momentum': 1.6618570923022324e-05}. Best is trial 48 with value: 0.8709999918937683.\u001b[0m\n",
            "\u001b[32m[I 2022-04-18 01:45:26,655]\u001b[0m Trial 52 finished with value: 0.8716999888420105 and parameters: {'n_layers': 2, 'n_blocks': 3, 'weight_decay': 1.3698860991102454e-09, 'n_units_l0': 72, 'n_units_l1': 65, 'optimizer': 'SGD', 'sgd_opt_learning_rate': 0.05213788753077835, 'sgd_opt_momentum': 1.1457459164044076e-05}. Best is trial 52 with value: 0.8716999888420105.\u001b[0m\n",
            "\u001b[32m[I 2022-04-18 01:45:36,776]\u001b[0m Trial 53 finished with value: 0.7487000226974487 and parameters: {'n_layers': 2, 'n_blocks': 3, 'weight_decay': 0.0005401246022891484, 'n_units_l0': 69, 'n_units_l1': 68, 'optimizer': 'SGD', 'sgd_opt_learning_rate': 0.0523106477671865, 'sgd_opt_momentum': 1.0166343401950512e-05}. Best is trial 52 with value: 0.8716999888420105.\u001b[0m\n",
            "\u001b[32m[I 2022-04-18 01:45:47,253]\u001b[0m Trial 54 finished with value: 0.24490000307559967 and parameters: {'n_layers': 2, 'n_blocks': 3, 'weight_decay': 1.0270397802565808e-10, 'n_units_l0': 112, 'n_units_l1': 64, 'optimizer': 'SGD', 'sgd_opt_learning_rate': 3.8481259384054836e-05, 'sgd_opt_momentum': 2.1133271657989783e-05}. Best is trial 52 with value: 0.8716999888420105.\u001b[0m\n",
            "\u001b[32m[I 2022-04-18 01:45:54,621]\u001b[0m Trial 55 finished with value: 0.8671000003814697 and parameters: {'n_layers': 2, 'n_blocks': 2, 'weight_decay': 1.4456063647981543e-09, 'n_units_l0': 83, 'n_units_l1': 98, 'optimizer': 'SGD', 'sgd_opt_learning_rate': 0.01714208783346713, 'sgd_opt_momentum': 1.0500149802427517e-05}. Best is trial 52 with value: 0.8716999888420105.\u001b[0m\n",
            "\u001b[32m[I 2022-04-18 01:46:02,116]\u001b[0m Trial 56 finished with value: 0.8633000254631042 and parameters: {'n_layers': 2, 'n_blocks': 2, 'weight_decay': 1.1322774351926944e-09, 'n_units_l0': 82, 'n_units_l1': 97, 'optimizer': 'SGD', 'sgd_opt_learning_rate': 0.014143070617400272, 'sgd_opt_momentum': 1.0696373749062617e-05}. Best is trial 52 with value: 0.8716999888420105.\u001b[0m\n",
            "\u001b[32m[I 2022-04-18 01:46:09,834]\u001b[0m Trial 57 finished with value: 0.6938999891281128 and parameters: {'n_layers': 2, 'n_blocks': 2, 'weight_decay': 4.6522353715889224e-10, 'n_units_l0': 92, 'n_units_l1': 97, 'optimizer': 'RMSprop', 'rmsprop_learning_rate': 0.0002522865809014533, 'rmsprop_decay': 0.9541080012120582, 'rmsprop_momentum': 0.003632697018812742}. Best is trial 52 with value: 0.8716999888420105.\u001b[0m\n",
            "\u001b[32m[I 2022-04-18 01:46:17,254]\u001b[0m Trial 58 finished with value: 0.849399983882904 and parameters: {'n_layers': 2, 'n_blocks': 2, 'weight_decay': 4.846693101425141e-09, 'n_units_l0': 122, 'n_units_l1': 69, 'optimizer': 'SGD', 'sgd_opt_learning_rate': 0.008762984704488266, 'sgd_opt_momentum': 2.259493816665063e-05}. Best is trial 52 with value: 0.8716999888420105.\u001b[0m\n",
            "\u001b[32m[I 2022-04-18 01:46:27,491]\u001b[0m Trial 59 finished with value: 0.7759000062942505 and parameters: {'n_layers': 2, 'n_blocks': 3, 'weight_decay': 1.63133617833086e-09, 'n_units_l0': 75, 'n_units_l1': 125, 'optimizer': 'SGD', 'sgd_opt_learning_rate': 0.005269400970869774, 'sgd_opt_momentum': 0.0110781747717475}. Best is trial 52 with value: 0.8716999888420105.\u001b[0m\n",
            "\u001b[32m[I 2022-04-18 01:46:38,033]\u001b[0m Trial 60 finished with value: 0.8327000141143799 and parameters: {'n_layers': 2, 'n_blocks': 3, 'weight_decay': 2.2341477906368056e-10, 'n_units_l0': 59, 'n_units_l1': 45, 'optimizer': 'SGD', 'sgd_opt_learning_rate': 0.02140810718064946, 'sgd_opt_momentum': 1.3353327200698423e-05}. Best is trial 52 with value: 0.8716999888420105.\u001b[0m\n",
            "\u001b[32m[I 2022-04-18 01:46:45,372]\u001b[0m Trial 61 finished with value: 0.850600004196167 and parameters: {'n_layers': 2, 'n_blocks': 2, 'weight_decay': 9.054900268233044e-10, 'n_units_l0': 75, 'n_units_l1': 101, 'optimizer': 'SGD', 'sgd_opt_learning_rate': 0.015281772889695594, 'sgd_opt_momentum': 1.0305599822988435e-05}. Best is trial 52 with value: 0.8716999888420105.\u001b[0m\n",
            "\u001b[32m[I 2022-04-18 01:46:52,736]\u001b[0m Trial 62 finished with value: 0.8324999809265137 and parameters: {'n_layers': 2, 'n_blocks': 2, 'weight_decay': 7.266181840621705e-10, 'n_units_l0': 83, 'n_units_l1': 94, 'optimizer': 'SGD', 'sgd_opt_learning_rate': 0.0270906268119732, 'sgd_opt_momentum': 3.389012606037751e-05}. Best is trial 52 with value: 0.8716999888420105.\u001b[0m\n",
            "\u001b[32m[I 2022-04-18 01:47:00,195]\u001b[0m Trial 63 finished with value: 0.8596000075340271 and parameters: {'n_layers': 2, 'n_blocks': 2, 'weight_decay': 1.2464664411797115e-09, 'n_units_l0': 110, 'n_units_l1': 59, 'optimizer': 'SGD', 'sgd_opt_learning_rate': 0.06246387081391644, 'sgd_opt_momentum': 1.4124342982229896e-05}. Best is trial 52 with value: 0.8716999888420105.\u001b[0m\n",
            "\u001b[32m[I 2022-04-18 01:47:07,694]\u001b[0m Trial 64 finished with value: 0.8317000269889832 and parameters: {'n_layers': 2, 'n_blocks': 2, 'weight_decay': 2.921903561154108e-09, 'n_units_l0': 97, 'n_units_l1': 78, 'optimizer': 'SGD', 'sgd_opt_learning_rate': 0.003872632650694944, 'sgd_opt_momentum': 2.505730886766093e-05}. Best is trial 52 with value: 0.8716999888420105.\u001b[0m\n",
            "\u001b[32m[I 2022-04-18 01:47:18,033]\u001b[0m Trial 65 finished with value: 0.8216000199317932 and parameters: {'n_layers': 2, 'n_blocks': 3, 'weight_decay': 8.136694661789823e-09, 'n_units_l0': 56, 'n_units_l1': 75, 'optimizer': 'SGD', 'sgd_opt_learning_rate': 0.011947986636914031, 'sgd_opt_momentum': 0.04338185021026881}. Best is trial 52 with value: 0.8716999888420105.\u001b[0m\n",
            "\u001b[32m[I 2022-04-18 01:47:28,336]\u001b[0m Trial 66 finished with value: 0.8029000163078308 and parameters: {'n_layers': 2, 'n_blocks': 3, 'weight_decay': 3.909397696514457e-10, 'n_units_l0': 128, 'n_units_l1': 107, 'optimizer': 'SGD', 'sgd_opt_learning_rate': 0.039401031268978766, 'sgd_opt_momentum': 1.7952366789627523e-05}. Best is trial 52 with value: 0.8716999888420105.\u001b[0m\n",
            "\u001b[32m[I 2022-04-18 01:47:35,983]\u001b[0m Trial 67 finished with value: 0.861299991607666 and parameters: {'n_layers': 2, 'n_blocks': 2, 'weight_decay': 2.4062326554237024e-10, 'n_units_l0': 81, 'n_units_l1': 127, 'optimizer': 'SGD', 'sgd_opt_learning_rate': 0.025536997085403773, 'sgd_opt_momentum': 0.0018160256875123584}. Best is trial 52 with value: 0.8716999888420105.\u001b[0m\n",
            "\u001b[32m[I 2022-04-18 01:47:43,764]\u001b[0m Trial 68 finished with value: 0.849399983882904 and parameters: {'n_layers': 2, 'n_blocks': 2, 'weight_decay': 5.680731753093038e-10, 'n_units_l0': 45, 'n_units_l1': 87, 'optimizer': 'Adam', 'adam_learning_rate': 0.005755118474768167}. Best is trial 52 with value: 0.8716999888420105.\u001b[0m\n",
            "\u001b[32m[I 2022-04-18 01:47:54,700]\u001b[0m Trial 69 finished with value: 0.12099999934434891 and parameters: {'n_layers': 2, 'n_blocks': 3, 'weight_decay': 1.986771454738577e-09, 'n_units_l0': 68, 'n_units_l1': 56, 'optimizer': 'RMSprop', 'rmsprop_learning_rate': 1.0120132993313034e-05, 'rmsprop_decay': 0.8510199663439788, 'rmsprop_momentum': 0.00013778448960796117}. Best is trial 52 with value: 0.8716999888420105.\u001b[0m\n",
            "\u001b[32m[I 2022-04-18 01:48:05,137]\u001b[0m Trial 70 finished with value: 0.8611000180244446 and parameters: {'n_layers': 2, 'n_blocks': 3, 'weight_decay': 4.106278925125771e-09, 'n_units_l0': 93, 'n_units_l1': 44, 'optimizer': 'SGD', 'sgd_opt_learning_rate': 0.059605935008211264, 'sgd_opt_momentum': 4.340632225101145e-05}. Best is trial 52 with value: 0.8716999888420105.\u001b[0m\n",
            "\u001b[32m[I 2022-04-18 01:48:12,610]\u001b[0m Trial 71 finished with value: 0.8657000064849854 and parameters: {'n_layers': 2, 'n_blocks': 2, 'weight_decay': 2.624725252817387e-10, 'n_units_l0': 85, 'n_units_l1': 124, 'optimizer': 'SGD', 'sgd_opt_learning_rate': 0.02527345895909231, 'sgd_opt_momentum': 0.025855817161439133}. Best is trial 52 with value: 0.8716999888420105.\u001b[0m\n",
            "\u001b[32m[I 2022-04-18 01:48:19,784]\u001b[0m Trial 72 finished with value: 0.8682000041007996 and parameters: {'n_layers': 2, 'n_blocks': 2, 'weight_decay': 1.753800181583427e-10, 'n_units_l0': 73, 'n_units_l1': 93, 'optimizer': 'SGD', 'sgd_opt_learning_rate': 0.015324769122096477, 'sgd_opt_momentum': 0.03632528967020285}. Best is trial 52 with value: 0.8716999888420105.\u001b[0m\n",
            "\u001b[32m[I 2022-04-18 01:48:27,169]\u001b[0m Trial 73 finished with value: 0.8442999720573425 and parameters: {'n_layers': 2, 'n_blocks': 2, 'weight_decay': 1.4009855010563165e-10, 'n_units_l0': 71, 'n_units_l1': 114, 'optimizer': 'SGD', 'sgd_opt_learning_rate': 0.008510056171339311, 'sgd_opt_momentum': 0.0248446026734821}. Best is trial 52 with value: 0.8716999888420105.\u001b[0m\n",
            "\u001b[32m[I 2022-04-18 01:48:34,721]\u001b[0m Trial 74 finished with value: 0.8537999987602234 and parameters: {'n_layers': 2, 'n_blocks': 2, 'weight_decay': 3.541451207642439e-10, 'n_units_l0': 109, 'n_units_l1': 76, 'optimizer': 'SGD', 'sgd_opt_learning_rate': 0.02854268410847258, 'sgd_opt_momentum': 0.03455018486749025}. Best is trial 52 with value: 0.8716999888420105.\u001b[0m\n",
            "\u001b[32m[I 2022-04-18 01:48:42,245]\u001b[0m Trial 75 finished with value: 0.8658000230789185 and parameters: {'n_layers': 2, 'n_blocks': 2, 'weight_decay': 2.5789296207237656e-10, 'n_units_l0': 60, 'n_units_l1': 20, 'optimizer': 'SGD', 'sgd_opt_learning_rate': 0.06993559381616514, 'sgd_opt_momentum': 0.020607285379497225}. Best is trial 52 with value: 0.8716999888420105.\u001b[0m\n",
            "\u001b[32m[I 2022-04-18 01:48:49,669]\u001b[0m Trial 76 finished with value: 0.8442000150680542 and parameters: {'n_layers': 2, 'n_blocks': 2, 'weight_decay': 1.4523233009188083e-10, 'n_units_l0': 42, 'n_units_l1': 19, 'optimizer': 'SGD', 'sgd_opt_learning_rate': 0.07061706421743826, 'sgd_opt_momentum': 0.011113374240563306}. Best is trial 52 with value: 0.8716999888420105.\u001b[0m\n",
            "\u001b[32m[I 2022-04-18 01:48:57,073]\u001b[0m Trial 77 finished with value: 0.8564000129699707 and parameters: {'n_layers': 2, 'n_blocks': 2, 'weight_decay': 2.344604801491129e-10, 'n_units_l0': 51, 'n_units_l1': 14, 'optimizer': 'SGD', 'sgd_opt_learning_rate': 0.04146419705676698, 'sgd_opt_momentum': 0.023819175324212526}. Best is trial 52 with value: 0.8716999888420105.\u001b[0m\n",
            "\u001b[32m[I 2022-04-18 01:49:04,379]\u001b[0m Trial 78 finished with value: 0.8560000061988831 and parameters: {'n_layers': 2, 'n_blocks': 2, 'weight_decay': 5.890677279181765e-10, 'n_units_l0': 60, 'n_units_l1': 20, 'optimizer': 'SGD', 'sgd_opt_learning_rate': 0.018927811704912083, 'sgd_opt_momentum': 0.016359858833730853}. Best is trial 52 with value: 0.8716999888420105.\u001b[0m\n",
            "\u001b[32m[I 2022-04-18 01:49:11,786]\u001b[0m Trial 79 finished with value: 0.8607000112533569 and parameters: {'n_layers': 2, 'n_blocks': 2, 'weight_decay': 1.0389679676547615e-10, 'n_units_l0': 55, 'n_units_l1': 89, 'optimizer': 'SGD', 'sgd_opt_learning_rate': 0.03215802963177135, 'sgd_opt_momentum': 0.05198970834831299}. Best is trial 52 with value: 0.8716999888420105.\u001b[0m\n",
            "\u001b[32m[I 2022-04-18 01:49:19,113]\u001b[0m Trial 80 finished with value: 0.8468999862670898 and parameters: {'n_layers': 2, 'n_blocks': 2, 'weight_decay': 2.86573163036913e-10, 'n_units_l0': 76, 'n_units_l1': 31, 'optimizer': 'SGD', 'sgd_opt_learning_rate': 0.007804456495053814, 'sgd_opt_momentum': 0.004873679338408856}. Best is trial 52 with value: 0.8716999888420105.\u001b[0m\n",
            "\u001b[32m[I 2022-04-18 01:49:29,778]\u001b[0m Trial 81 finished with value: 0.8137999773025513 and parameters: {'n_layers': 2, 'n_blocks': 3, 'weight_decay': 4.965006550461068e-10, 'n_units_l0': 87, 'n_units_l1': 105, 'optimizer': 'SGD', 'sgd_opt_learning_rate': 0.09724217928187025, 'sgd_opt_momentum': 0.09174222306779202}. Best is trial 52 with value: 0.8716999888420105.\u001b[0m\n",
            "\u001b[32m[I 2022-04-18 01:49:37,309]\u001b[0m Trial 82 finished with value: 0.855400025844574 and parameters: {'n_layers': 2, 'n_blocks': 2, 'weight_decay': 1.595857788888217e-09, 'n_units_l0': 65, 'n_units_l1': 16, 'optimizer': 'SGD', 'sgd_opt_learning_rate': 0.04256396436509749, 'sgd_opt_momentum': 0.06757838775790308}. Best is trial 52 with value: 0.8716999888420105.\u001b[0m\n",
            "\u001b[32m[I 2022-04-18 01:49:47,751]\u001b[0m Trial 83 finished with value: 0.7947999835014343 and parameters: {'n_layers': 2, 'n_blocks': 3, 'weight_decay': 1.8908088092837354e-10, 'n_units_l0': 100, 'n_units_l1': 12, 'optimizer': 'SGD', 'sgd_opt_learning_rate': 0.0688588752627816, 'sgd_opt_momentum': 0.030105793684141003}. Best is trial 52 with value: 0.8716999888420105.\u001b[0m\n",
            "\u001b[32m[I 2022-04-18 01:49:58,131]\u001b[0m Trial 84 finished with value: 0.8495000004768372 and parameters: {'n_layers': 2, 'n_blocks': 3, 'weight_decay': 3.339789701747805e-08, 'n_units_l0': 91, 'n_units_l1': 60, 'optimizer': 'SGD', 'sgd_opt_learning_rate': 0.0223461358285726, 'sgd_opt_momentum': 0.018417783063129616}. Best is trial 52 with value: 0.8716999888420105.\u001b[0m\n",
            "\u001b[32m[I 2022-04-18 01:50:05,554]\u001b[0m Trial 85 finished with value: 0.8471999764442444 and parameters: {'n_layers': 2, 'n_blocks': 2, 'weight_decay': 0.00019085614978794143, 'n_units_l0': 73, 'n_units_l1': 25, 'optimizer': 'SGD', 'sgd_opt_learning_rate': 0.07434661117103403, 'sgd_opt_momentum': 0.06345051396635036}. Best is trial 52 with value: 0.8716999888420105.\u001b[0m\n",
            "\u001b[32m[I 2022-04-18 01:50:19,004]\u001b[0m Trial 86 finished with value: 0.7857999801635742 and parameters: {'n_layers': 2, 'n_blocks': 4, 'weight_decay': 2.8014219519848863e-09, 'n_units_l0': 63, 'n_units_l1': 70, 'optimizer': 'Adam', 'adam_learning_rate': 8.228823123243085e-05}. Best is trial 52 with value: 0.8716999888420105.\u001b[0m\n",
            "\u001b[32m[I 2022-04-18 01:50:29,804]\u001b[0m Trial 87 finished with value: 0.7505000233650208 and parameters: {'n_layers': 2, 'n_blocks': 3, 'weight_decay': 7.687865127273583e-10, 'n_units_l0': 47, 'n_units_l1': 119, 'optimizer': 'RMSprop', 'rmsprop_learning_rate': 0.012851305079584612, 'rmsprop_decay': 0.897767340999983, 'rmsprop_momentum': 0.0016998650635109964}. Best is trial 52 with value: 0.8716999888420105.\u001b[0m\n",
            "\u001b[32m[I 2022-04-18 01:50:37,336]\u001b[0m Trial 88 finished with value: 0.8571000099182129 and parameters: {'n_layers': 2, 'n_blocks': 2, 'weight_decay': 3.3140801248853174e-10, 'n_units_l0': 82, 'n_units_l1': 16, 'optimizer': 'SGD', 'sgd_opt_learning_rate': 0.048492825753897684, 'sgd_opt_momentum': 0.04743213011610232}. Best is trial 52 with value: 0.8716999888420105.\u001b[0m\n",
            "\u001b[32m[I 2022-04-18 01:50:44,757]\u001b[0m Trial 89 finished with value: 0.7541999816894531 and parameters: {'n_layers': 2, 'n_blocks': 2, 'weight_decay': 1.0044237008319517e-09, 'n_units_l0': 32, 'n_units_l1': 83, 'optimizer': 'SGD', 'sgd_opt_learning_rate': 0.0006766379041105856, 'sgd_opt_momentum': 0.007883339021093142}. Best is trial 52 with value: 0.8716999888420105.\u001b[0m\n",
            "\u001b[32m[I 2022-04-18 01:50:54,577]\u001b[0m Trial 90 finished with value: 0.5572999715805054 and parameters: {'n_layers': 1, 'n_blocks': 3, 'weight_decay': 1.2671161173257133e-08, 'n_units_l0': 113, 'optimizer': 'SGD', 'sgd_opt_learning_rate': 0.00015915726184583085, 'sgd_opt_momentum': 0.0032449705721622215}. Best is trial 52 with value: 0.8716999888420105.\u001b[0m\n",
            "\u001b[32m[I 2022-04-18 01:51:01,957]\u001b[0m Trial 91 finished with value: 0.8490999937057495 and parameters: {'n_layers': 2, 'n_blocks': 2, 'weight_decay': 1.0560963929414567e-09, 'n_units_l0': 81, 'n_units_l1': 94, 'optimizer': 'SGD', 'sgd_opt_learning_rate': 0.01446920428262954, 'sgd_opt_momentum': 1.2303782911033767e-05}. Best is trial 52 with value: 0.8716999888420105.\u001b[0m\n",
            "\u001b[32m[I 2022-04-18 01:51:09,194]\u001b[0m Trial 92 finished with value: 0.852400004863739 and parameters: {'n_layers': 2, 'n_blocks': 2, 'weight_decay': 6.587632638448532e-09, 'n_units_l0': 104, 'n_units_l1': 108, 'optimizer': 'SGD', 'sgd_opt_learning_rate': 0.014184988202258478, 'sgd_opt_momentum': 2.7231331741117735e-05}. Best is trial 52 with value: 0.8716999888420105.\u001b[0m\n",
            "\u001b[32m[I 2022-04-18 01:51:16,426]\u001b[0m Trial 93 finished with value: 0.8672999739646912 and parameters: {'n_layers': 2, 'n_blocks': 2, 'weight_decay': 5.973722348675937e-10, 'n_units_l0': 92, 'n_units_l1': 104, 'optimizer': 'SGD', 'sgd_opt_learning_rate': 0.03217332517981049, 'sgd_opt_momentum': 1.0046629430181958e-05}. Best is trial 52 with value: 0.8716999888420105.\u001b[0m\n",
            "\u001b[32m[I 2022-04-18 01:51:24,205]\u001b[0m Trial 94 finished with value: 0.7847999930381775 and parameters: {'n_layers': 2, 'n_blocks': 2, 'weight_decay': 4.3400637083334367e-10, 'n_units_l0': 69, 'n_units_l1': 4, 'optimizer': 'SGD', 'sgd_opt_learning_rate': 0.03271996572026882, 'sgd_opt_momentum': 2.0499847292111992e-05}. Best is trial 52 with value: 0.8716999888420105.\u001b[0m\n",
            "\u001b[32m[I 2022-04-18 01:51:31,572]\u001b[0m Trial 95 finished with value: 0.8628000020980835 and parameters: {'n_layers': 2, 'n_blocks': 2, 'weight_decay': 1.5938395032210947e-10, 'n_units_l0': 117, 'n_units_l1': 28, 'optimizer': 'SGD', 'sgd_opt_learning_rate': 0.05622455615459795, 'sgd_opt_momentum': 0.0008313871997124821}. Best is trial 52 with value: 0.8716999888420105.\u001b[0m\n",
            "\u001b[32m[I 2022-04-18 01:51:44,900]\u001b[0m Trial 96 finished with value: 0.7996000051498413 and parameters: {'n_layers': 2, 'n_blocks': 4, 'weight_decay': 6.292330591273359e-10, 'n_units_l0': 94, 'n_units_l1': 92, 'optimizer': 'SGD', 'sgd_opt_learning_rate': 0.039648303985946036, 'sgd_opt_momentum': 0.03935214667286314}. Best is trial 52 with value: 0.8716999888420105.\u001b[0m\n",
            "\u001b[32m[I 2022-04-18 01:51:52,260]\u001b[0m Trial 97 finished with value: 0.8514999747276306 and parameters: {'n_layers': 2, 'n_blocks': 2, 'weight_decay': 2.115243206201179e-09, 'n_units_l0': 88, 'n_units_l1': 51, 'optimizer': 'SGD', 'sgd_opt_learning_rate': 0.08277228870011144, 'sgd_opt_momentum': 1.4972481278670667e-05}. Best is trial 52 with value: 0.8716999888420105.\u001b[0m\n",
            "\u001b[32m[I 2022-04-18 01:52:05,208]\u001b[0m Trial 98 finished with value: 0.7997999787330627 and parameters: {'n_layers': 2, 'n_blocks': 4, 'weight_decay': 2.9174639184915197e-10, 'n_units_l0': 58, 'n_units_l1': 116, 'optimizer': 'SGD', 'sgd_opt_learning_rate': 0.02373390493168295, 'sgd_opt_momentum': 1.3268386321457586e-05}. Best is trial 52 with value: 0.8716999888420105.\u001b[0m\n",
            "\u001b[32m[I 2022-04-18 01:52:15,660]\u001b[0m Trial 99 finished with value: 0.10000000149011612 and parameters: {'n_layers': 2, 'n_blocks': 3, 'weight_decay': 1.6536596524680912e-09, 'n_units_l0': 75, 'n_units_l1': 10, 'optimizer': 'Adam', 'adam_learning_rate': 0.022331591299226964}. Best is trial 52 with value: 0.8716999888420105.\u001b[0m\n"
          ]
        },
        {
          "output_type": "stream",
          "name": "stdout",
          "text": [
            "Number of finished trials:  100\n",
            "Best trial:\n",
            "  Value:  0.8716999888420105\n",
            "  Params: \n",
            "    n_layers: 2\n",
            "    n_blocks: 3\n",
            "    weight_decay: 1.3698860991102454e-09\n",
            "    n_units_l0: 72\n",
            "    n_units_l1: 65\n",
            "    optimizer: SGD\n",
            "    sgd_opt_learning_rate: 0.05213788753077835\n",
            "    sgd_opt_momentum: 1.1457459164044076e-05\n"
          ]
        }
      ]
    }
  ]
}